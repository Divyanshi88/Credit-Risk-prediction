{
 "cells": [
  {
   "cell_type": "markdown",
   "id": "ad4fbcc7",
   "metadata": {},
   "source": [
    "#\n",
    "# 1. LOAD  THE DATASET\n"
   ]
  },
  {
   "cell_type": "code",
   "execution_count": 4,
   "id": "a3be14bf",
   "metadata": {},
   "outputs": [
    {
     "name": "stdout",
     "output_type": "stream",
     "text": [
      "   Index  Employed  Bank Balance  Annual Salary  Defaulted?\n",
      "0      1         1       8754.36      532339.56           0\n",
      "1      2         0       9806.16      145273.56           0\n",
      "2      3         1      12882.60      381205.68           0\n",
      "3      4         1       6351.00      428453.88           0\n",
      "4      5         1       9427.92      461562.00           0\n",
      "<class 'pandas.core.frame.DataFrame'>\n",
      "RangeIndex: 10000 entries, 0 to 9999\n",
      "Data columns (total 5 columns):\n",
      " #   Column         Non-Null Count  Dtype  \n",
      "---  ------         --------------  -----  \n",
      " 0   Index          10000 non-null  int64  \n",
      " 1   Employed       10000 non-null  int64  \n",
      " 2   Bank Balance   10000 non-null  float64\n",
      " 3   Annual Salary  10000 non-null  float64\n",
      " 4   Defaulted?     10000 non-null  int64  \n",
      "dtypes: float64(2), int64(3)\n",
      "memory usage: 390.8 KB\n",
      "None\n"
     ]
    }
   ],
   "source": [
    "import pandas as pd\n",
    "\n",
    "# Load the dataset\n",
    "df = pd.read_csv('Default_Fin.csv')  # Adjust if filename differs\n",
    "print(df.head())\n",
    "print(df.info())"
   ]
  },
  {
   "cell_type": "code",
   "execution_count": 5,
   "id": "f47d29f1",
   "metadata": {},
   "outputs": [],
   "source": [
    "df = df.drop(columns=['Index'])  # Not useful for prediction\n",
    "\n",
    "X = df.drop('Defaulted?', axis=1)\n",
    "y = df['Defaulted?']"
   ]
  },
  {
   "cell_type": "markdown",
   "id": "b7eb0644",
   "metadata": {},
   "source": [
    "#\n",
    "# 2. Split the Data\n",
    " "
   ]
  },
  {
   "cell_type": "code",
   "execution_count": 6,
   "id": "f8188b78",
   "metadata": {},
   "outputs": [],
   "source": [
    "from sklearn.model_selection import train_test_split\n",
    "\n",
    "X_train, X_test, y_train, y_test = train_test_split(\n",
    "    X, y, test_size=0.2, stratify=y, random_state=42\n",
    ")\n"
   ]
  },
  {
   "cell_type": "markdown",
   "id": "531c6fbc",
   "metadata": {},
   "source": [
    "#\n",
    "# 3. Train a Random Forest Classifier"
   ]
  },
  {
   "cell_type": "code",
   "execution_count": 7,
   "id": "774ec4be",
   "metadata": {},
   "outputs": [
    {
     "name": "stdout",
     "output_type": "stream",
     "text": [
      "Accuracy: 0.9695\n",
      "F1 Score: 0.38383838383838387\n",
      "ROC-AUC: 0.9301063230150335\n"
     ]
    }
   ],
   "source": [
    "from sklearn.ensemble import RandomForestClassifier\n",
    "from sklearn.metrics import accuracy_score, f1_score, roc_auc_score\n",
    "\n",
    "model = RandomForestClassifier(n_estimators=100, max_depth=10, random_state=42)\n",
    "model.fit(X_train, y_train)\n",
    "\n",
    "y_pred = model.predict(X_test)\n",
    "y_prob = model.predict_proba(X_test)[:, 1]\n",
    "\n",
    "print(\"Accuracy:\", accuracy_score(y_test, y_pred))\n",
    "print(\"F1 Score:\", f1_score(y_test, y_pred))\n",
    "print(\"ROC-AUC:\", roc_auc_score(y_test, y_prob))\n"
   ]
  },
  {
   "cell_type": "markdown",
   "id": "e1268024",
   "metadata": {},
   "source": [
    "#\n",
    "#  4: Save the Model"
   ]
  },
  {
   "cell_type": "code",
   "execution_count": 8,
   "id": "ed7b495e",
   "metadata": {},
   "outputs": [
    {
     "data": {
      "text/plain": [
       "['credit_risk_model.pkl']"
      ]
     },
     "execution_count": 8,
     "metadata": {},
     "output_type": "execute_result"
    }
   ],
   "source": [
    "import joblib\n",
    "\n",
    "joblib.dump(model, \"credit_risk_model.pkl\")\n"
   ]
  },
  {
   "cell_type": "code",
   "execution_count": null,
   "id": "d53a5036",
   "metadata": {},
   "outputs": [
    {
     "name": "stdout",
     "output_type": "stream",
     "text": [
      "Prediction result: 1\n"
     ]
    },
    {
     "name": "stderr",
     "output_type": "stream",
     "text": [
      "/Users/divayanshisharama/.pyenv/versions/3.9.9/lib/python3.9/site-packages/sklearn/base.py:464: UserWarning: X does not have valid feature names, but RandomForestClassifier was fitted with feature names\n",
      "  warnings.warn(\n"
     ]
    }
   ],
   "source": [
    "# main.ipynb\n",
    "\n",
    "# Step 1: Import libraries\n",
    "import joblib\n",
    "import numpy as np\n",
    "import pandas as pd\n",
    "\n",
    "# Step 2: Load the saved model\n",
    "model_path = '/Users/divayanshisharama/Desktop/Credit Risk Prediction System /models/credit_risk_model.pkl'\n",
    "\n",
    "model = joblib.load(model_path)\n",
    "sample_input = pd.DataFrame([{\n",
    "    'loan_amount': 25000,\n",
    "    'income': 50000,\n",
    "    'credit_score': 700\n",
    "}]) # dummy values\n",
    "\n",
    "# Step 4: Make prediction\n",
    "prediction = model.predict(sample_input)\n",
    "\n",
    "# Step 5: Output the prediction\n",
    "print(\"Prediction result:\", prediction[0])\n"
   ]
  },
  {
   "cell_type": "code",
   "execution_count": null,
   "id": "eff6df3b",
   "metadata": {},
   "outputs": [],
   "source": []
  }
 ],
 "metadata": {
  "kernelspec": {
   "display_name": "3.9.9",
   "language": "python",
   "name": "python3"
  },
  "language_info": {
   "codemirror_mode": {
    "name": "ipython",
    "version": 3
   },
   "file_extension": ".py",
   "mimetype": "text/x-python",
   "name": "python",
   "nbconvert_exporter": "python",
   "pygments_lexer": "ipython3",
   "version": "3.9.9"
  }
 },
 "nbformat": 4,
 "nbformat_minor": 5
}
